{
 "cells": [
  {
   "cell_type": "markdown",
   "metadata": {},
   "source": [
    "# TALLER ANALISIS EXPLORATORIO Y PROCESAMIENTO\n",
    "\n",
    "## 1. Descripción de conjunto de datos\n",
    "El conjunto de datos tiene como título \"Iris Plants Database\" y fue creado por Ronald Fisher en 1936."
   ]
  },
  {
   "cell_type": "markdown",
   "metadata": {},
   "source": [
    "## 2. Número de instancias\n",
    "\n",
    "Primeramente, se importan las librerías necesarias para el análisis exploratorio y procesamiento de datos."
   ]
  },
  {
   "cell_type": "code",
   "execution_count": 2,
   "metadata": {},
   "outputs": [],
   "source": [
    "import pandas as pd\n",
    "from sklearn.cluster import KMeans\n",
    "import sklearn as sk\n",
    "import sklearn.ensemble as ske\n",
    "import matplotlib.pyplot as plt"
   ]
  },
  {
   "cell_type": "markdown",
   "metadata": {},
   "source": [
    "Luego, se importa el conjunto de datos."
   ]
  },
  {
   "cell_type": "code",
   "execution_count": 3,
   "metadata": {},
   "outputs": [],
   "source": [
    "iris_data = pd.read_csv('iris.data', header=None, names=['sepal_length', 'sepal_width', 'petal_length', 'petal_width', 'class'])"
   ]
  },
  {
   "cell_type": "markdown",
   "metadata": {},
   "source": [
    "Se muestra el número de instancias del conjunto de datos."
   ]
  },
  {
   "cell_type": "code",
   "execution_count": 4,
   "metadata": {},
   "outputs": [
    {
     "name": "stdout",
     "output_type": "stream",
     "text": [
      "Número de instancias:  150\n"
     ]
    }
   ],
   "source": [
    "print(\"Número de instancias: \", len(iris_data))"
   ]
  },
  {
   "cell_type": "markdown",
   "metadata": {},
   "source": [
    "## 3. Número de atributos\n",
    "Se muestra el número de atributos del conjunto de datos."
   ]
  },
  {
   "cell_type": "code",
   "execution_count": 5,
   "metadata": {},
   "outputs": [
    {
     "name": "stdout",
     "output_type": "stream",
     "text": [
      "Número de atributos:  5\n"
     ]
    }
   ],
   "source": [
    "print(\"Número de atributos: \", len(iris_data.columns))"
   ]
  },
  {
   "cell_type": "markdown",
   "metadata": {},
   "source": [
    "## 4. ¿El conjunto de datos está etiquetado? ¿Cuántas clases tiene?\n",
    "Sí, el conjunto de datos está etiquetado.\n",
    "Se muestra el número de clases del conjunto de datos."
   ]
  },
  {
   "cell_type": "code",
   "execution_count": 6,
   "metadata": {},
   "outputs": [
    {
     "name": "stdout",
     "output_type": "stream",
     "text": [
      "Número de clases:  3\n"
     ]
    }
   ],
   "source": [
    "print(\"Número de clases: \", len(iris_data['class'].unique()))"
   ]
  },
  {
   "cell_type": "markdown",
   "metadata": {},
   "source": [
    "## 5. ¿Cuántos atributos son numéricos y cuántos son categóricos?\n",
    "Se muestra el número de atributos numéricos y categóricos del conjunto de datos."
   ]
  },
  {
   "cell_type": "code",
   "execution_count": 7,
   "metadata": {},
   "outputs": [
    {
     "name": "stdout",
     "output_type": "stream",
     "text": [
      "Número de atributos numéricos:  4\n",
      "Número de atributos categóricos:  1\n"
     ]
    }
   ],
   "source": [
    "print(\"Número de atributos numéricos: \", len(iris_data.select_dtypes(include=['int64', 'float64']).columns))\n",
    "print(\"Número de atributos categóricos: \", len(iris_data.select_dtypes(include=['object']).columns))"
   ]
  },
  {
   "cell_type": "markdown",
   "metadata": {},
   "source": [
    "## 6. Reporte la moda para cada atributo categórico.\n",
    "Se muestra la moda para cada atributo categórico del conjunto de datos."
   ]
  },
  {
   "cell_type": "code",
   "execution_count": 8,
   "metadata": {},
   "outputs": [
    {
     "data": {
      "text/plain": "0        Iris-setosa\n1    Iris-versicolor\n2     Iris-virginica\nName: class, dtype: object"
     },
     "execution_count": 8,
     "metadata": {},
     "output_type": "execute_result"
    }
   ],
   "source": [
    "iris_data['class'].mode()"
   ]
  },
  {
   "cell_type": "markdown",
   "metadata": {},
   "source": [
    "## 7. Reporte la media, rango desviación estándar para cada atributo numérico.\n",
    "Se muestra la media, rango y desviación estándar para cada atributo numérico del conjunto de datos."
   ]
  },
  {
   "cell_type": "code",
   "execution_count": 9,
   "metadata": {},
   "outputs": [
    {
     "data": {
      "text/plain": "              mean   std  min  max  range\nsepal_length  5.84  0.83  4.3  7.9    3.6\nsepal_width   3.05  0.43  2.0  4.4    2.4\npetal_length  3.76  1.76  1.0  6.9    5.9\npetal_width   1.20  0.76  0.1  2.5    2.4",
      "text/html": "<div>\n<style scoped>\n    .dataframe tbody tr th:only-of-type {\n        vertical-align: middle;\n    }\n\n    .dataframe tbody tr th {\n        vertical-align: top;\n    }\n\n    .dataframe thead th {\n        text-align: right;\n    }\n</style>\n<table border=\"1\" class=\"dataframe\">\n  <thead>\n    <tr style=\"text-align: right;\">\n      <th></th>\n      <th>mean</th>\n      <th>std</th>\n      <th>min</th>\n      <th>max</th>\n      <th>range</th>\n    </tr>\n  </thead>\n  <tbody>\n    <tr>\n      <th>sepal_length</th>\n      <td>5.84</td>\n      <td>0.83</td>\n      <td>4.3</td>\n      <td>7.9</td>\n      <td>3.6</td>\n    </tr>\n    <tr>\n      <th>sepal_width</th>\n      <td>3.05</td>\n      <td>0.43</td>\n      <td>2.0</td>\n      <td>4.4</td>\n      <td>2.4</td>\n    </tr>\n    <tr>\n      <th>petal_length</th>\n      <td>3.76</td>\n      <td>1.76</td>\n      <td>1.0</td>\n      <td>6.9</td>\n      <td>5.9</td>\n    </tr>\n    <tr>\n      <th>petal_width</th>\n      <td>1.20</td>\n      <td>0.76</td>\n      <td>0.1</td>\n      <td>2.5</td>\n      <td>2.4</td>\n    </tr>\n  </tbody>\n</table>\n</div>"
     },
     "execution_count": 9,
     "metadata": {},
     "output_type": "execute_result"
    }
   ],
   "source": [
    "iris_details = iris_data.describe()\n",
    "iris_details.loc['range'] = iris_details.loc['max'] - iris_details.loc['min']\n",
    "iris_details.loc['std'] = iris_details.loc['std'].round(2)\n",
    "iris_details.loc['range'] = iris_details.loc['range'].round(2)\n",
    "iris_details.loc['mean'] = iris_details.loc['mean'].round(2)\n",
    "\n",
    "iris_details.drop(['count', '25%', '50%', '75%'], axis=0, inplace=True)\n",
    "\n",
    "iris_details.T"
   ]
  },
  {
   "cell_type": "markdown",
   "metadata": {},
   "source": [
    "## 8. Determine el número de valores falta por atributo.\n",
    "Se muestra el número de valores falta por atributo del conjunto de datos."
   ]
  },
  {
   "cell_type": "code",
   "execution_count": 10,
   "metadata": {},
   "outputs": [
    {
     "name": "stdout",
     "output_type": "stream",
     "text": [
      "Número de valores falta por atributo:  sepal_length    0\n",
      "sepal_width     0\n",
      "petal_length    0\n",
      "petal_width     0\n",
      "class           0\n",
      "dtype: int64\n"
     ]
    }
   ],
   "source": [
    "print(\"Número de valores falta por atributo: \", iris_data.isnull().sum())"
   ]
  },
  {
   "cell_type": "markdown",
   "metadata": {},
   "source": [
    "## 9. Determine la distribución de las clases.\n",
    "Se muestra la distribución de las clases del conjunto de datos."
   ]
  },
  {
   "cell_type": "code",
   "execution_count": 11,
   "metadata": {},
   "outputs": [
    {
     "data": {
      "text/plain": "Iris-setosa        33.33%\nIris-versicolor    33.33%\nIris-virginica     33.33%\nName: class, dtype: object"
     },
     "execution_count": 11,
     "metadata": {},
     "output_type": "execute_result"
    }
   ],
   "source": [
    "iris_data['class'].value_counts(normalize=True).apply(lambda x: format(x, '.2%'))"
   ]
  },
  {
   "cell_type": "markdown",
   "metadata": {},
   "source": [
    "## 10. Determine si existen valores atípicos.\n",
    "Se muestra si existen valores atípicos en el conjunto de datos."
   ]
  },
  {
   "cell_type": "code",
   "execution_count": 12,
   "metadata": {},
   "outputs": [
    {
     "data": {
      "text/plain": "<Axes: >"
     },
     "execution_count": 12,
     "metadata": {},
     "output_type": "execute_result"
    },
    {
     "data": {
      "text/plain": "<Figure size 640x480 with 1 Axes>",
      "image/png": "[encoded data removed]"
     },
     "metadata": {},
     "output_type": "display_data"
    }
   ],
   "source": [
    "# Boxplot for each class\n",
    "iris_data.boxplot()"
   ]
  },
  {
   "cell_type": "code",
   "execution_count": 22,
   "outputs": [
    {
     "name": "stderr",
     "output_type": "stream",
     "text": [
      "C:\\Users\\Cantt\\AppData\\Local\\Temp\\ipykernel_18776\\1073765976.py:13: FutureWarning: In a future version of pandas, a length 1 tuple will be returned when iterating over a groupby with a grouper equal to a list of length 1. Don't supply a list with a single grouper to avoid this warning.\n",
      "  for key, grp in iris_data.groupby(['class']):\n"
     ]
    },
    {
     "data": {
      "text/plain": "<Figure size 640x480 with 1 Axes>",
      "image/png": "[encoded data removed]"
     },
     "metadata": {},
     "output_type": "display_data"
    }
   ],
   "source": [
    "import numpy as np\n",
    "\n",
    "fig, ax = plt.subplots()\n",
    "colors = {'Iris-setosa':'red', 'Iris-versicolor':'blue', 'Iris-virginica':'green'}\n",
    "line_colors = {'Iris-setosa':'red', 'Iris-versicolor':'blue', 'Iris-virginica':'green'}\n",
    "ax.scatter(iris_data['sepal_length'], iris_data['sepal_width'], c=iris_data['class'].apply(lambda x: colors[x]))\n",
    "\n",
    "# Set plot labels\n",
    "plt.xlabel('sepal_length')\n",
    "plt.ylabel('sepal_width')\n",
    "\n",
    "# Trend line\n",
    "for key, grp in iris_data.groupby(['class']):\n",
    "    z = np.polyfit(grp['sepal_length'], grp['sepal_width'], 1)\n",
    "    p = np.poly1d(z)\n",
    "    plt.plot(grp['sepal_length'], p(grp['sepal_length']), label=key, color=line_colors[key])\n",
    "plt.show()\n"
   ],
   "metadata": {
    "collapsed": false
   }
  },
  {
   "cell_type": "markdown",
   "metadata": {},
   "source": [
    "## 11. Aplique al menos dos estrategias diferentes para manejar los datos faltantes.\n",
    "### 11.1. Eliminar instancias con datos faltantes\n",
    "Se eliminan las instancias con datos faltantes."
   ]
  },
  {
   "cell_type": "code",
   "execution_count": 14,
   "metadata": {},
   "outputs": [
    {
     "data": {
      "text/plain": "     sepal_length  sepal_width  petal_length  petal_width           class\n0             5.1          3.5           1.4          0.2     Iris-setosa\n1             4.9          3.0           1.4          0.2     Iris-setosa\n2             4.7          3.2           1.3          0.2     Iris-setosa\n3             4.6          3.1           1.5          0.2     Iris-setosa\n4             5.0          3.6           1.4          0.2     Iris-setosa\n..            ...          ...           ...          ...             ...\n145           6.7          3.0           5.2          2.3  Iris-virginica\n146           6.3          2.5           5.0          1.9  Iris-virginica\n147           6.5          3.0           5.2          2.0  Iris-virginica\n148           6.2          3.4           5.4          2.3  Iris-virginica\n149           5.9          3.0           5.1          1.8  Iris-virginica\n\n[150 rows x 5 columns]",
      "text/html": "<div>\n<style scoped>\n    .dataframe tbody tr th:only-of-type {\n        vertical-align: middle;\n    }\n\n    .dataframe tbody tr th {\n        vertical-align: top;\n    }\n\n    .dataframe thead th {\n        text-align: right;\n    }\n</style>\n<table border=\"1\" class=\"dataframe\">\n  <thead>\n    <tr style=\"text-align: right;\">\n      <th></th>\n      <th>sepal_length</th>\n      <th>sepal_width</th>\n      <th>petal_length</th>\n      <th>petal_width</th>\n      <th>class</th>\n    </tr>\n  </thead>\n  <tbody>\n    <tr>\n      <th>0</th>\n      <td>5.1</td>\n      <td>3.5</td>\n      <td>1.4</td>\n      <td>0.2</td>\n      <td>Iris-setosa</td>\n    </tr>\n    <tr>\n      <th>1</th>\n      <td>4.9</td>\n      <td>3.0</td>\n      <td>1.4</td>\n      <td>0.2</td>\n      <td>Iris-setosa</td>\n    </tr>\n    <tr>\n      <th>2</th>\n      <td>4.7</td>\n      <td>3.2</td>\n      <td>1.3</td>\n      <td>0.2</td>\n      <td>Iris-setosa</td>\n    </tr>\n    <tr>\n      <th>3</th>\n      <td>4.6</td>\n      <td>3.1</td>\n      <td>1.5</td>\n      <td>0.2</td>\n      <td>Iris-setosa</td>\n    </tr>\n    <tr>\n      <th>4</th>\n      <td>5.0</td>\n      <td>3.6</td>\n      <td>1.4</td>\n      <td>0.2</td>\n      <td>Iris-setosa</td>\n    </tr>\n    <tr>\n      <th>...</th>\n      <td>...</td>\n      <td>...</td>\n      <td>...</td>\n      <td>...</td>\n      <td>...</td>\n    </tr>\n    <tr>\n      <th>145</th>\n      <td>6.7</td>\n      <td>3.0</td>\n      <td>5.2</td>\n      <td>2.3</td>\n      <td>Iris-virginica</td>\n    </tr>\n    <tr>\n      <th>146</th>\n      <td>6.3</td>\n      <td>2.5</td>\n      <td>5.0</td>\n      <td>1.9</td>\n      <td>Iris-virginica</td>\n    </tr>\n    <tr>\n      <th>147</th>\n      <td>6.5</td>\n      <td>3.0</td>\n      <td>5.2</td>\n      <td>2.0</td>\n      <td>Iris-virginica</td>\n    </tr>\n    <tr>\n      <th>148</th>\n      <td>6.2</td>\n      <td>3.4</td>\n      <td>5.4</td>\n      <td>2.3</td>\n      <td>Iris-virginica</td>\n    </tr>\n    <tr>\n      <th>149</th>\n      <td>5.9</td>\n      <td>3.0</td>\n      <td>5.1</td>\n      <td>1.8</td>\n      <td>Iris-virginica</td>\n    </tr>\n  </tbody>\n</table>\n<p>150 rows × 5 columns</p>\n</div>"
     },
     "execution_count": 14,
     "metadata": {},
     "output_type": "execute_result"
    }
   ],
   "source": [
    "iris_data_no_missing = iris_data.dropna()\n",
    "iris_data_no_missing"
   ]
  },
  {
   "cell_type": "markdown",
   "metadata": {},
   "source": [
    "### 11.2. Imputar datos faltantes\n",
    "Se imputan los datos faltantes con la media de cada atributo."
   ]
  },
  {
   "cell_type": "code",
   "execution_count": 15,
   "metadata": {},
   "outputs": [
    {
     "data": {
      "text/plain": "     sepal_length  sepal_width  petal_length  petal_width           class\n0             5.1          3.5           1.4          0.2     Iris-setosa\n1             4.9          3.0           1.4          0.2     Iris-setosa\n2             4.7          3.2           1.3          0.2     Iris-setosa\n3             4.6          3.1           1.5          0.2     Iris-setosa\n4             5.0          3.6           1.4          0.2     Iris-setosa\n..            ...          ...           ...          ...             ...\n145           6.7          3.0           5.2          2.3  Iris-virginica\n146           6.3          2.5           5.0          1.9  Iris-virginica\n147           6.5          3.0           5.2          2.0  Iris-virginica\n148           6.2          3.4           5.4          2.3  Iris-virginica\n149           5.9          3.0           5.1          1.8  Iris-virginica\n\n[150 rows x 5 columns]",
      "text/html": "<div>\n<style scoped>\n    .dataframe tbody tr th:only-of-type {\n        vertical-align: middle;\n    }\n\n    .dataframe tbody tr th {\n        vertical-align: top;\n    }\n\n    .dataframe thead th {\n        text-align: right;\n    }\n</style>\n<table border=\"1\" class=\"dataframe\">\n  <thead>\n    <tr style=\"text-align: right;\">\n      <th></th>\n      <th>sepal_length</th>\n      <th>sepal_width</th>\n      <th>petal_length</th>\n      <th>petal_width</th>\n      <th>class</th>\n    </tr>\n  </thead>\n  <tbody>\n    <tr>\n      <th>0</th>\n      <td>5.1</td>\n      <td>3.5</td>\n      <td>1.4</td>\n      <td>0.2</td>\n      <td>Iris-setosa</td>\n    </tr>\n    <tr>\n      <th>1</th>\n      <td>4.9</td>\n      <td>3.0</td>\n      <td>1.4</td>\n      <td>0.2</td>\n      <td>Iris-setosa</td>\n    </tr>\n    <tr>\n      <th>2</th>\n      <td>4.7</td>\n      <td>3.2</td>\n      <td>1.3</td>\n      <td>0.2</td>\n      <td>Iris-setosa</td>\n    </tr>\n    <tr>\n      <th>3</th>\n      <td>4.6</td>\n      <td>3.1</td>\n      <td>1.5</td>\n      <td>0.2</td>\n      <td>Iris-setosa</td>\n    </tr>\n    <tr>\n      <th>4</th>\n      <td>5.0</td>\n      <td>3.6</td>\n      <td>1.4</td>\n      <td>0.2</td>\n      <td>Iris-setosa</td>\n    </tr>\n    <tr>\n      <th>...</th>\n      <td>...</td>\n      <td>...</td>\n      <td>...</td>\n      <td>...</td>\n      <td>...</td>\n    </tr>\n    <tr>\n      <th>145</th>\n      <td>6.7</td>\n      <td>3.0</td>\n      <td>5.2</td>\n      <td>2.3</td>\n      <td>Iris-virginica</td>\n    </tr>\n    <tr>\n      <th>146</th>\n      <td>6.3</td>\n      <td>2.5</td>\n      <td>5.0</td>\n      <td>1.9</td>\n      <td>Iris-virginica</td>\n    </tr>\n    <tr>\n      <th>147</th>\n      <td>6.5</td>\n      <td>3.0</td>\n      <td>5.2</td>\n      <td>2.0</td>\n      <td>Iris-virginica</td>\n    </tr>\n    <tr>\n      <th>148</th>\n      <td>6.2</td>\n      <td>3.4</td>\n      <td>5.4</td>\n      <td>2.3</td>\n      <td>Iris-virginica</td>\n    </tr>\n    <tr>\n      <th>149</th>\n      <td>5.9</td>\n      <td>3.0</td>\n      <td>5.1</td>\n      <td>1.8</td>\n      <td>Iris-virginica</td>\n    </tr>\n  </tbody>\n</table>\n<p>150 rows × 5 columns</p>\n</div>"
     },
     "execution_count": 15,
     "metadata": {},
     "output_type": "execute_result"
    }
   ],
   "source": [
    "iris_data_missing_mean = iris_data.fillna(iris_data.mean(numeric_only=True))\n",
    "iris_data_missing_mean"
   ]
  },
  {
   "cell_type": "markdown",
   "metadata": {},
   "source": [
    "## 12. Convierta todos los atributos numéricos a categóricos utilizando dos estrategias diferentes.\n",
    "### 12.1. Convierta todos los atributos numéricos a categóricos utilizando la estrategia de intervalos.\n",
    "Se convierten todos los atributos numéricos a categóricos utilizando la estrategia de intervalos."
   ]
  },
  {
   "cell_type": "code",
   "execution_count": 16,
   "metadata": {},
   "outputs": [
    {
     "data": {
      "text/plain": "    sepal_length sepal_width petal_length petal_width           class\n0            low      medium          low         low     Iris-setosa\n1            low      medium          low         low     Iris-setosa\n2            low      medium          low         low     Iris-setosa\n3            low      medium          low         low     Iris-setosa\n4            low      medium          low         low     Iris-setosa\n..           ...         ...          ...         ...             ...\n145       medium      medium         high        high  Iris-virginica\n146       medium         low         high        high  Iris-virginica\n147       medium      medium         high        high  Iris-virginica\n148       medium      medium         high        high  Iris-virginica\n149       medium      medium         high        high  Iris-virginica\n\n[150 rows x 5 columns]",
      "text/html": "<div>\n<style scoped>\n    .dataframe tbody tr th:only-of-type {\n        vertical-align: middle;\n    }\n\n    .dataframe tbody tr th {\n        vertical-align: top;\n    }\n\n    .dataframe thead th {\n        text-align: right;\n    }\n</style>\n<table border=\"1\" class=\"dataframe\">\n  <thead>\n    <tr style=\"text-align: right;\">\n      <th></th>\n      <th>sepal_length</th>\n      <th>sepal_width</th>\n      <th>petal_length</th>\n      <th>petal_width</th>\n      <th>class</th>\n    </tr>\n  </thead>\n  <tbody>\n    <tr>\n      <th>0</th>\n      <td>low</td>\n      <td>medium</td>\n      <td>low</td>\n      <td>low</td>\n      <td>Iris-setosa</td>\n    </tr>\n    <tr>\n      <th>1</th>\n      <td>low</td>\n      <td>medium</td>\n      <td>low</td>\n      <td>low</td>\n      <td>Iris-setosa</td>\n    </tr>\n    <tr>\n      <th>2</th>\n      <td>low</td>\n      <td>medium</td>\n      <td>low</td>\n      <td>low</td>\n      <td>Iris-setosa</td>\n    </tr>\n    <tr>\n      <th>3</th>\n      <td>low</td>\n      <td>medium</td>\n      <td>low</td>\n      <td>low</td>\n      <td>Iris-setosa</td>\n    </tr>\n    <tr>\n      <th>4</th>\n      <td>low</td>\n      <td>medium</td>\n      <td>low</td>\n      <td>low</td>\n      <td>Iris-setosa</td>\n    </tr>\n    <tr>\n      <th>...</th>\n      <td>...</td>\n      <td>...</td>\n      <td>...</td>\n      <td>...</td>\n      <td>...</td>\n    </tr>\n    <tr>\n      <th>145</th>\n      <td>medium</td>\n      <td>medium</td>\n      <td>high</td>\n      <td>high</td>\n      <td>Iris-virginica</td>\n    </tr>\n    <tr>\n      <th>146</th>\n      <td>medium</td>\n      <td>low</td>\n      <td>high</td>\n      <td>high</td>\n      <td>Iris-virginica</td>\n    </tr>\n    <tr>\n      <th>147</th>\n      <td>medium</td>\n      <td>medium</td>\n      <td>high</td>\n      <td>high</td>\n      <td>Iris-virginica</td>\n    </tr>\n    <tr>\n      <th>148</th>\n      <td>medium</td>\n      <td>medium</td>\n      <td>high</td>\n      <td>high</td>\n      <td>Iris-virginica</td>\n    </tr>\n    <tr>\n      <th>149</th>\n      <td>medium</td>\n      <td>medium</td>\n      <td>high</td>\n      <td>high</td>\n      <td>Iris-virginica</td>\n    </tr>\n  </tbody>\n</table>\n<p>150 rows × 5 columns</p>\n</div>"
     },
     "execution_count": 16,
     "metadata": {},
     "output_type": "execute_result"
    }
   ],
   "source": [
    "iris_data_interval = iris_data.copy()\n",
    "iris_data_interval['sepal_length'] = pd.cut(iris_data_interval['sepal_length'], bins=3, labels=['low', 'medium', 'high'])\n",
    "iris_data_interval['sepal_width'] = pd.cut(iris_data_interval['sepal_width'], bins=3, labels=['low', 'medium', 'high'])\n",
    "iris_data_interval['petal_length'] = pd.cut(iris_data_interval['petal_length'], bins=3, labels=['low', 'medium', 'high'])\n",
    "iris_data_interval['petal_width'] = pd.cut(iris_data_interval['petal_width'], bins=3, labels=['low', 'medium', 'high'])\n",
    "iris_data_interval"
   ]
  },
  {
   "cell_type": "markdown",
   "metadata": {},
   "source": [
    "### 12.2. Convierta todos los atributos numéricos a categóricos utilizando la estrategia de frecuencias.\n",
    "Se convierten todos los atributos numéricos a categóricos utilizando la estrategia de frecuencias."
   ]
  },
  {
   "cell_type": "code",
   "execution_count": 17,
   "metadata": {},
   "outputs": [
    {
     "data": {
      "text/plain": "    sepal_length sepal_width petal_length petal_width           class\n0            low        high          low         low     Iris-setosa\n1            low      medium          low         low     Iris-setosa\n2            low      medium          low         low     Iris-setosa\n3            low      medium          low         low     Iris-setosa\n4            low        high          low         low     Iris-setosa\n..           ...         ...          ...         ...             ...\n145         high      medium         high        high  Iris-virginica\n146       medium         low         high        high  Iris-virginica\n147         high      medium         high        high  Iris-virginica\n148       medium        high         high        high  Iris-virginica\n149       medium      medium         high        high  Iris-virginica\n\n[150 rows x 5 columns]",
      "text/html": "<div>\n<style scoped>\n    .dataframe tbody tr th:only-of-type {\n        vertical-align: middle;\n    }\n\n    .dataframe tbody tr th {\n        vertical-align: top;\n    }\n\n    .dataframe thead th {\n        text-align: right;\n    }\n</style>\n<table border=\"1\" class=\"dataframe\">\n  <thead>\n    <tr style=\"text-align: right;\">\n      <th></th>\n      <th>sepal_length</th>\n      <th>sepal_width</th>\n      <th>petal_length</th>\n      <th>petal_width</th>\n      <th>class</th>\n    </tr>\n  </thead>\n  <tbody>\n    <tr>\n      <th>0</th>\n      <td>low</td>\n      <td>high</td>\n      <td>low</td>\n      <td>low</td>\n      <td>Iris-setosa</td>\n    </tr>\n    <tr>\n      <th>1</th>\n      <td>low</td>\n      <td>medium</td>\n      <td>low</td>\n      <td>low</td>\n      <td>Iris-setosa</td>\n    </tr>\n    <tr>\n      <th>2</th>\n      <td>low</td>\n      <td>medium</td>\n      <td>low</td>\n      <td>low</td>\n      <td>Iris-setosa</td>\n    </tr>\n    <tr>\n      <th>3</th>\n      <td>low</td>\n      <td>medium</td>\n      <td>low</td>\n      <td>low</td>\n      <td>Iris-setosa</td>\n    </tr>\n    <tr>\n      <th>4</th>\n      <td>low</td>\n      <td>high</td>\n      <td>low</td>\n      <td>low</td>\n      <td>Iris-setosa</td>\n    </tr>\n    <tr>\n      <th>...</th>\n      <td>...</td>\n      <td>...</td>\n      <td>...</td>\n      <td>...</td>\n      <td>...</td>\n    </tr>\n    <tr>\n      <th>145</th>\n      <td>high</td>\n      <td>medium</td>\n      <td>high</td>\n      <td>high</td>\n      <td>Iris-virginica</td>\n    </tr>\n    <tr>\n      <th>146</th>\n      <td>medium</td>\n      <td>low</td>\n      <td>high</td>\n      <td>high</td>\n      <td>Iris-virginica</td>\n    </tr>\n    <tr>\n      <th>147</th>\n      <td>high</td>\n      <td>medium</td>\n      <td>high</td>\n      <td>high</td>\n      <td>Iris-virginica</td>\n    </tr>\n    <tr>\n      <th>148</th>\n      <td>medium</td>\n      <td>high</td>\n      <td>high</td>\n      <td>high</td>\n      <td>Iris-virginica</td>\n    </tr>\n    <tr>\n      <th>149</th>\n      <td>medium</td>\n      <td>medium</td>\n      <td>high</td>\n      <td>high</td>\n      <td>Iris-virginica</td>\n    </tr>\n  </tbody>\n</table>\n<p>150 rows × 5 columns</p>\n</div>"
     },
     "execution_count": 17,
     "metadata": {},
     "output_type": "execute_result"
    }
   ],
   "source": [
    "iris_data_frequency = iris_data.copy()\n",
    "iris_data_frequency['sepal_length'] = pd.qcut(iris_data_frequency['sepal_length'], q=3, labels=['low', 'medium', 'high'])\n",
    "iris_data_frequency['sepal_width'] = pd.qcut(iris_data_frequency['sepal_width'], q=3, labels=['low', 'medium', 'high'])\n",
    "iris_data_frequency['petal_length'] = pd.qcut(iris_data_frequency['petal_length'], q=3, labels=['low', 'medium', 'high'])\n",
    "iris_data_frequency['petal_width'] = pd.qcut(iris_data_frequency['petal_width'], q=3, labels=['low', 'medium', 'high'])\n",
    "iris_data_frequency"
   ]
  },
  {
   "cell_type": "markdown",
   "metadata": {},
   "source": [
    "## 13. Transforme el conjunto de datos de manera que todos los atributos sean numéricos.\n",
    "Se transforma el conjunto de datos de manera que todos los atributos sean numéricos."
   ]
  },
  {
   "cell_type": "code",
   "execution_count": 18,
   "metadata": {},
   "outputs": [
    {
     "data": {
      "text/plain": "     sepal_length  sepal_width  petal_length  petal_width  class\n0             5.1          3.5           1.4          0.2    1.0\n1             4.9          3.0           1.4          0.2    1.0\n2             4.7          3.2           1.3          0.2    1.0\n3             4.6          3.1           1.5          0.2    1.0\n4             5.0          3.6           1.4          0.2    1.0\n..            ...          ...           ...          ...    ...\n145           6.7          3.0           5.2          2.3    3.0\n146           6.3          2.5           5.0          1.9    3.0\n147           6.5          3.0           5.2          2.0    3.0\n148           6.2          3.4           5.4          2.3    3.0\n149           5.9          3.0           5.1          1.8    3.0\n\n[150 rows x 5 columns]",
      "text/html": "<div>\n<style scoped>\n    .dataframe tbody tr th:only-of-type {\n        vertical-align: middle;\n    }\n\n    .dataframe tbody tr th {\n        vertical-align: top;\n    }\n\n    .dataframe thead th {\n        text-align: right;\n    }\n</style>\n<table border=\"1\" class=\"dataframe\">\n  <thead>\n    <tr style=\"text-align: right;\">\n      <th></th>\n      <th>sepal_length</th>\n      <th>sepal_width</th>\n      <th>petal_length</th>\n      <th>petal_width</th>\n      <th>class</th>\n    </tr>\n  </thead>\n  <tbody>\n    <tr>\n      <th>0</th>\n      <td>5.1</td>\n      <td>3.5</td>\n      <td>1.4</td>\n      <td>0.2</td>\n      <td>1.0</td>\n    </tr>\n    <tr>\n      <th>1</th>\n      <td>4.9</td>\n      <td>3.0</td>\n      <td>1.4</td>\n      <td>0.2</td>\n      <td>1.0</td>\n    </tr>\n    <tr>\n      <th>2</th>\n      <td>4.7</td>\n      <td>3.2</td>\n      <td>1.3</td>\n      <td>0.2</td>\n      <td>1.0</td>\n    </tr>\n    <tr>\n      <th>3</th>\n      <td>4.6</td>\n      <td>3.1</td>\n      <td>1.5</td>\n      <td>0.2</td>\n      <td>1.0</td>\n    </tr>\n    <tr>\n      <th>4</th>\n      <td>5.0</td>\n      <td>3.6</td>\n      <td>1.4</td>\n      <td>0.2</td>\n      <td>1.0</td>\n    </tr>\n    <tr>\n      <th>...</th>\n      <td>...</td>\n      <td>...</td>\n      <td>...</td>\n      <td>...</td>\n      <td>...</td>\n    </tr>\n    <tr>\n      <th>145</th>\n      <td>6.7</td>\n      <td>3.0</td>\n      <td>5.2</td>\n      <td>2.3</td>\n      <td>3.0</td>\n    </tr>\n    <tr>\n      <th>146</th>\n      <td>6.3</td>\n      <td>2.5</td>\n      <td>5.0</td>\n      <td>1.9</td>\n      <td>3.0</td>\n    </tr>\n    <tr>\n      <th>147</th>\n      <td>6.5</td>\n      <td>3.0</td>\n      <td>5.2</td>\n      <td>2.0</td>\n      <td>3.0</td>\n    </tr>\n    <tr>\n      <th>148</th>\n      <td>6.2</td>\n      <td>3.4</td>\n      <td>5.4</td>\n      <td>2.3</td>\n      <td>3.0</td>\n    </tr>\n    <tr>\n      <th>149</th>\n      <td>5.9</td>\n      <td>3.0</td>\n      <td>5.1</td>\n      <td>1.8</td>\n      <td>3.0</td>\n    </tr>\n  </tbody>\n</table>\n<p>150 rows × 5 columns</p>\n</div>"
     },
     "execution_count": 18,
     "metadata": {},
     "output_type": "execute_result"
    }
   ],
   "source": [
    "iris_data_numeric = iris_data.copy()\n",
    "iris_data_numeric['sepal_length'] = iris_data_numeric['sepal_length'].astype('float64')\n",
    "iris_data_numeric['sepal_width'] = iris_data_numeric['sepal_width'].astype('float64')\n",
    "iris_data_numeric['petal_length'] = iris_data_numeric['petal_length'].astype('float64')\n",
    "iris_data_numeric['petal_width'] = iris_data_numeric['petal_width'].astype('float64')\n",
    "\n",
    "iris_data_numeric.replace({'class': {'Iris-setosa': 1.0, 'Iris-versicolor': 2.0, 'Iris-virginica': 3.0}}, inplace=True)\n",
    "\n",
    "iris_data_numeric"
   ]
  },
  {
   "cell_type": "markdown",
   "metadata": {},
   "source": [
    "## 14. Escoja una técnica para la detección de valores atípicos y aplíquela al conjunto de datos.\n",
    "Se aplica la técnica de detección de valores atípicos Isolation Forest."
   ]
  },
  {
   "cell_type": "code",
   "execution_count": 19,
   "metadata": {},
   "outputs": [
    {
     "data": {
      "text/plain": "         sepal_length  sepal_width  petal_length  petal_width  class\noutlier                                                             \nnormal            110          110           110          110    110\noutlier            40           40            40           40     40",
      "text/html": "<div>\n<style scoped>\n    .dataframe tbody tr th:only-of-type {\n        vertical-align: middle;\n    }\n\n    .dataframe tbody tr th {\n        vertical-align: top;\n    }\n\n    .dataframe thead th {\n        text-align: right;\n    }\n</style>\n<table border=\"1\" class=\"dataframe\">\n  <thead>\n    <tr style=\"text-align: right;\">\n      <th></th>\n      <th>sepal_length</th>\n      <th>sepal_width</th>\n      <th>petal_length</th>\n      <th>petal_width</th>\n      <th>class</th>\n    </tr>\n    <tr>\n      <th>outlier</th>\n      <th></th>\n      <th></th>\n      <th></th>\n      <th></th>\n      <th></th>\n    </tr>\n  </thead>\n  <tbody>\n    <tr>\n      <th>normal</th>\n      <td>110</td>\n      <td>110</td>\n      <td>110</td>\n      <td>110</td>\n      <td>110</td>\n    </tr>\n    <tr>\n      <th>outlier</th>\n      <td>40</td>\n      <td>40</td>\n      <td>40</td>\n      <td>40</td>\n      <td>40</td>\n    </tr>\n  </tbody>\n</table>\n</div>"
     },
     "execution_count": 19,
     "metadata": {},
     "output_type": "execute_result"
    }
   ],
   "source": [
    "iris_data_outliers = iris_data.copy()\n",
    "iris_data_outliers['outlier'] = ske.IsolationForest().fit_predict(iris_data_outliers[['sepal_length', 'sepal_width', 'petal_length', 'petal_width']])\n",
    "iris_data_outliers['outlier'] = iris_data_outliers['outlier'].apply(lambda x: 'outlier' if x == -1 else 'normal')\n",
    "iris_data_outliers.groupby('outlier').count()"
   ]
  },
  {
   "cell_type": "markdown",
   "metadata": {},
   "source": [
    "### 14.1. Aplique otra técnica para la detección de valores atípicos y compare los resultados.\n",
    "Se aplica la técnica de detección de valores atípicos Local Outlier Factor."
   ]
  },
  {
   "cell_type": "code",
   "execution_count": 20,
   "metadata": {},
   "outputs": [
    {
     "data": {
      "text/plain": "         sepal_length  sepal_width  petal_length  petal_width  class\noutlier                                                             \nnormal            144          144           144          144    144\noutlier             6            6             6            6      6",
      "text/html": "<div>\n<style scoped>\n    .dataframe tbody tr th:only-of-type {\n        vertical-align: middle;\n    }\n\n    .dataframe tbody tr th {\n        vertical-align: top;\n    }\n\n    .dataframe thead th {\n        text-align: right;\n    }\n</style>\n<table border=\"1\" class=\"dataframe\">\n  <thead>\n    <tr style=\"text-align: right;\">\n      <th></th>\n      <th>sepal_length</th>\n      <th>sepal_width</th>\n      <th>petal_length</th>\n      <th>petal_width</th>\n      <th>class</th>\n    </tr>\n    <tr>\n      <th>outlier</th>\n      <th></th>\n      <th></th>\n      <th></th>\n      <th></th>\n      <th></th>\n    </tr>\n  </thead>\n  <tbody>\n    <tr>\n      <th>normal</th>\n      <td>144</td>\n      <td>144</td>\n      <td>144</td>\n      <td>144</td>\n      <td>144</td>\n    </tr>\n    <tr>\n      <th>outlier</th>\n      <td>6</td>\n      <td>6</td>\n      <td>6</td>\n      <td>6</td>\n      <td>6</td>\n    </tr>\n  </tbody>\n</table>\n</div>"
     },
     "execution_count": 20,
     "metadata": {},
     "output_type": "execute_result"
    }
   ],
   "source": [
    "iris_data_outliers = iris_data.copy()\n",
    "iris_data_outliers['outlier'] = sk.neighbors.LocalOutlierFactor().fit_predict(iris_data_outliers[['sepal_length', 'sepal_width', 'petal_length', 'petal_width']])\n",
    "iris_data_outliers['outlier'] = iris_data_outliers['outlier'].apply(lambda x: 'outlier' if x == -1 else 'normal')\n",
    "iris_data_outliers.groupby('outlier').count()"
   ]
  },
  {
   "cell_type": "markdown",
   "source": [
    "### 14.2. Aplique la técnica de KMeans para la detección de valores atípicos y compare los resultados.\n",
    "Se aplica la técnica de detección de valores atípicos KMeans."
   ],
   "metadata": {
    "collapsed": false
   }
  },
  {
   "cell_type": "code",
   "execution_count": 21,
   "outputs": [
    {
     "name": "stderr",
     "output_type": "stream",
     "text": [
      "D:\\Projects\\iris\\venv\\Lib\\site-packages\\sklearn\\cluster\\_kmeans.py:870: FutureWarning: The default value of `n_init` will change from 10 to 'auto' in 1.4. Set the value of `n_init` explicitly to suppress the warning\n",
      "  warnings.warn(\n"
     ]
    },
    {
     "data": {
      "text/plain": "         sepal_length  sepal_width  petal_length  petal_width  class\noutlier                                                             \nnormal            112          112           112          112    112\noutlier            38           38            38           38     38",
      "text/html": "<div>\n<style scoped>\n    .dataframe tbody tr th:only-of-type {\n        vertical-align: middle;\n    }\n\n    .dataframe tbody tr th {\n        vertical-align: top;\n    }\n\n    .dataframe thead th {\n        text-align: right;\n    }\n</style>\n<table border=\"1\" class=\"dataframe\">\n  <thead>\n    <tr style=\"text-align: right;\">\n      <th></th>\n      <th>sepal_length</th>\n      <th>sepal_width</th>\n      <th>petal_length</th>\n      <th>petal_width</th>\n      <th>class</th>\n    </tr>\n    <tr>\n      <th>outlier</th>\n      <th></th>\n      <th></th>\n      <th></th>\n      <th></th>\n      <th></th>\n    </tr>\n  </thead>\n  <tbody>\n    <tr>\n      <th>normal</th>\n      <td>112</td>\n      <td>112</td>\n      <td>112</td>\n      <td>112</td>\n      <td>112</td>\n    </tr>\n    <tr>\n      <th>outlier</th>\n      <td>38</td>\n      <td>38</td>\n      <td>38</td>\n      <td>38</td>\n      <td>38</td>\n    </tr>\n  </tbody>\n</table>\n</div>"
     },
     "execution_count": 21,
     "metadata": {},
     "output_type": "execute_result"
    }
   ],
   "source": [
    "iris_data_outliers = iris_data.copy()\n",
    "iris_data_outliers['outlier'] = KMeans(n_clusters=3).fit_predict(iris_data_outliers[['sepal_length', 'sepal_width', 'petal_length', 'petal_width']])\n",
    "iris_data_outliers['outlier'] = iris_data_outliers['outlier'].apply(lambda x: 'outlier' if x == 2 else 'normal')\n",
    "iris_data_outliers.groupby('outlier').count()"
   ],
   "metadata": {
    "collapsed": false
   }
  },
  {
   "cell_type": "code",
   "execution_count": 21,
   "outputs": [],
   "source": [],
   "metadata": {
    "collapsed": false
   }
  }
 ],
 "metadata": {
  "kernelspec": {
   "display_name": "Python 3 (ipykernel)",
   "language": "python",
   "name": "python3"
  },
  "language_info": {
   "codemirror_mode": {
    "name": "ipython",
    "version": 3
   },
   "file_extension": ".py",
   "mimetype": "text/x-python",
   "name": "python",
   "nbconvert_exporter": "python",
   "pygments_lexer": "ipython3",
   "version": "3.11.0"
  }
 },
 "nbformat": 4,
 "nbformat_minor": 1
}
